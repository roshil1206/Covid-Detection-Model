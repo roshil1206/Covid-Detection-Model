{
  "nbformat": 4,
  "nbformat_minor": 0,
  "metadata": {
    "accelerator": "GPU",
    "colab": {
      "name": "Covid-19Detection.ipynb",
      "provenance": [],
      "collapsed_sections": [],
      "mount_file_id": "1NDadePrQ2fLW_9TDZl3JxBRM_Yd3WiNE",
      "authorship_tag": "ABX9TyMn6QEOU0RaJKwpZaEWazw+"
    },
    "kernelspec": {
      "display_name": "Python 3",
      "name": "python3"
    }
  },
  "cells": [
    {
      "cell_type": "code",
      "metadata": {
        "id": "frVK1EgN380f"
      },
      "source": [
        "TRAIN_PATH=\"drive/MyDrive/COVID DETECTION MODEL/DataSet/Train\"\n",
        "VAL_PATH=\"drive/MyDrive/COVID DETECTION MODEL/DataSet/Val\"\n"
      ],
      "execution_count": null,
      "outputs": []
    },
    {
      "cell_type": "code",
      "metadata": {
        "id": "TemyXx0O9RsF"
      },
      "source": [
        "import numpy as np\n",
        "import matplotlib.pyplot as plt\n",
        "from tensorflow.keras import models, layers, losses\n",
        "from keras.preprocessing import image\n",
        "from tensorflow.keras.applications.resnet50 import preprocess_input\n"
      ],
      "execution_count": null,
      "outputs": []
    },
    {
      "cell_type": "code",
      "metadata": {
        "id": "G7d_hW1N9lgD"
      },
      "source": [
        "\n",
        "cnnModel = models.Sequential([\n",
        "                              layers.Conv2D(filters=32, kernel_size=(3,3), activation='relu', input_shape=(224,224,3)),\n",
        "                              layers.Conv2D(64,kernel_size=(3,3),activation='relu'),\n",
        "                              layers.MaxPool2D(pool_size=(2,2)),\n",
        "                              # layers.Dropout(0.25),\n",
        "                              \n",
        "                              layers.Conv2D(64,kernel_size=(3,3),activation='relu'),\n",
        "                              layers.MaxPool2D(pool_size=(2,2)),\n",
        "                              # layers.Dropout(0.25),\n",
        "\n",
        "                              layers.Conv2D(128,kernel_size=(3,3),activation='relu'),\n",
        "                              layers.MaxPool2D(pool_size=(2,2)),\n",
        "                              # layers.Dropout(0.25),\n",
        "                              layers.Flatten(),\n",
        "                              layers.Dense(64,activation='relu'),\n",
        "                              layers.Dense(1,activation='sigmoid')\n",
        "])\n",
        "\n",
        "\n",
        "cnnModel.compile(optimizer='adam', loss=losses.binary_crossentropy, metrics=['accuracy'])"
      ],
      "execution_count": null,
      "outputs": []
    },
    {
      "cell_type": "code",
      "metadata": {
        "colab": {
          "base_uri": "https://localhost:8080/"
        },
        "id": "cJg_jg_Q-cw9",
        "outputId": "91071030-ba7e-47eb-d885-8a5f3a364165"
      },
      "source": [
        "\n",
        "cnnModel.summary()"
      ],
      "execution_count": null,
      "outputs": [
        {
          "output_type": "stream",
          "text": [
            "Model: \"sequential_13\"\n",
            "_________________________________________________________________\n",
            "Layer (type)                 Output Shape              Param #   \n",
            "=================================================================\n",
            "conv2d_52 (Conv2D)           (None, 222, 222, 32)      896       \n",
            "_________________________________________________________________\n",
            "conv2d_53 (Conv2D)           (None, 220, 220, 64)      18496     \n",
            "_________________________________________________________________\n",
            "max_pooling2d_39 (MaxPooling (None, 110, 110, 64)      0         \n",
            "_________________________________________________________________\n",
            "conv2d_54 (Conv2D)           (None, 108, 108, 64)      36928     \n",
            "_________________________________________________________________\n",
            "max_pooling2d_40 (MaxPooling (None, 54, 54, 64)        0         \n",
            "_________________________________________________________________\n",
            "conv2d_55 (Conv2D)           (None, 52, 52, 128)       73856     \n",
            "_________________________________________________________________\n",
            "max_pooling2d_41 (MaxPooling (None, 26, 26, 128)       0         \n",
            "_________________________________________________________________\n",
            "flatten_13 (Flatten)         (None, 86528)             0         \n",
            "_________________________________________________________________\n",
            "dense_26 (Dense)             (None, 64)                5537856   \n",
            "_________________________________________________________________\n",
            "dense_27 (Dense)             (None, 1)                 65        \n",
            "=================================================================\n",
            "Total params: 5,668,097\n",
            "Trainable params: 5,668,097\n",
            "Non-trainable params: 0\n",
            "_________________________________________________________________\n"
          ],
          "name": "stdout"
        }
      ]
    },
    {
      "cell_type": "code",
      "metadata": {
        "id": "MSA46FaPHLrL"
      },
      "source": [
        "\n",
        "\n",
        "train_datagen = image.ImageDataGenerator(\n",
        "    rescale=1./255,\n",
        "    shear_range=0.2,\n",
        "    zoom_range=0.2, \n",
        "    horizontal_flip=True,\n",
        ")\n",
        "\n",
        "test_dataset=image.ImageDataGenerator(rescale=1./255)"
      ],
      "execution_count": null,
      "outputs": []
    },
    {
      "cell_type": "code",
      "metadata": {
        "colab": {
          "base_uri": "https://localhost:8080/"
        },
        "id": "5Nv5dJLEIYNc",
        "outputId": "a18a3744-a99a-43e1-e7a2-2ba79e8197f3"
      },
      "source": [
        "train_generator=train_datagen.flow_from_directory(\n",
        "    TRAIN_PATH,\n",
        "    target_size=(224,224),\n",
        "    batch_size=32,\n",
        "    class_mode='binary'\n",
        ")"
      ],
      "execution_count": null,
      "outputs": [
        {
          "output_type": "stream",
          "text": [
            "Found 392 images belonging to 2 classes.\n"
          ],
          "name": "stdout"
        }
      ]
    },
    {
      "cell_type": "code",
      "metadata": {
        "colab": {
          "base_uri": "https://localhost:8080/"
        },
        "id": "ZHyRnROSlI9S",
        "outputId": "79eddfc1-6b30-490c-fdaf-9166625f7753"
      },
      "source": [
        "from google.colab import drive\n",
        "drive.mount('/content/drive')"
      ],
      "execution_count": null,
      "outputs": [
        {
          "output_type": "stream",
          "text": [
            "Drive already mounted at /content/drive; to attempt to forcibly remount, call drive.mount(\"/content/drive\", force_remount=True).\n"
          ],
          "name": "stdout"
        }
      ]
    },
    {
      "cell_type": "code",
      "metadata": {
        "colab": {
          "base_uri": "https://localhost:8080/"
        },
        "id": "XdkFoePUJjGY",
        "outputId": "46085610-0cf8-4b31-fc2e-860e7af9f949"
      },
      "source": [
        "train_generator.class_indices"
      ],
      "execution_count": null,
      "outputs": [
        {
          "output_type": "execute_result",
          "data": {
            "text/plain": [
              "{'Covid': 0, 'Normal': 1}"
            ]
          },
          "metadata": {
            "tags": []
          },
          "execution_count": 381
        }
      ]
    },
    {
      "cell_type": "code",
      "metadata": {
        "colab": {
          "base_uri": "https://localhost:8080/"
        },
        "id": "Ohe_V3ySKAmB",
        "outputId": "d80234ac-8ba7-4a5a-dd48-57146358ad86"
      },
      "source": [
        "validation_generator=test_dataset.flow_from_directory(\n",
        "    VAL_PATH,\n",
        "    target_size=(224,224),\n",
        "    batch_size=32,\n",
        "    class_mode='binary'\n",
        ")"
      ],
      "execution_count": null,
      "outputs": [
        {
          "output_type": "stream",
          "text": [
            "Found 60 images belonging to 2 classes.\n"
          ],
          "name": "stdout"
        }
      ]
    },
    {
      "cell_type": "code",
      "metadata": {
        "colab": {
          "base_uri": "https://localhost:8080/"
        },
        "id": "2RO4f4c5K1V_",
        "outputId": "e96a2af7-2bb3-4086-a00b-32f951c7b6b9"
      },
      "source": [
        "hist=cnnModel.fit_generator(\n",
        "    train_generator,\n",
        "    steps_per_epoch=8,\n",
        "    epochs=10,\n",
        "    validation_data=validation_generator,\n",
        "    validation_steps=2\n",
        ")"
      ],
      "execution_count": null,
      "outputs": [
        {
          "output_type": "stream",
          "text": [
            "/usr/local/lib/python3.7/dist-packages/tensorflow/python/keras/engine/training.py:1844: UserWarning: `Model.fit_generator` is deprecated and will be removed in a future version. Please use `Model.fit`, which supports generators.\n",
            "  warnings.warn('`Model.fit_generator` is deprecated and '\n"
          ],
          "name": "stderr"
        },
        {
          "output_type": "stream",
          "text": [
            "Epoch 1/10\n",
            "8/8 [==============================] - 12s 1s/step - loss: 0.9469 - accuracy: 0.4852 - val_loss: 0.6254 - val_accuracy: 0.9167\n",
            "Epoch 2/10\n",
            "8/8 [==============================] - 9s 1s/step - loss: 0.5688 - accuracy: 0.7301 - val_loss: 0.4118 - val_accuracy: 0.8500\n",
            "Epoch 3/10\n",
            "8/8 [==============================] - 10s 1s/step - loss: 0.3629 - accuracy: 0.8321 - val_loss: 0.2360 - val_accuracy: 0.9333\n",
            "Epoch 4/10\n",
            "8/8 [==============================] - 9s 1s/step - loss: 0.5207 - accuracy: 0.8304 - val_loss: 0.4867 - val_accuracy: 0.6833\n",
            "Epoch 5/10\n",
            "8/8 [==============================] - 9s 1s/step - loss: 0.3295 - accuracy: 0.8411 - val_loss: 0.1106 - val_accuracy: 0.9500\n",
            "Epoch 6/10\n",
            "8/8 [==============================] - 10s 1s/step - loss: 0.2032 - accuracy: 0.9380 - val_loss: 0.1847 - val_accuracy: 0.9667\n",
            "Epoch 7/10\n",
            "8/8 [==============================] - 9s 1s/step - loss: 0.1376 - accuracy: 0.9585 - val_loss: 0.1004 - val_accuracy: 0.9667\n",
            "Epoch 8/10\n",
            "8/8 [==============================] - 9s 1s/step - loss: 0.0808 - accuracy: 0.9873 - val_loss: 0.1010 - val_accuracy: 0.9500\n",
            "Epoch 9/10\n",
            "8/8 [==============================] - 9s 1s/step - loss: 0.0593 - accuracy: 0.9665 - val_loss: 0.1696 - val_accuracy: 0.9667\n",
            "Epoch 10/10\n",
            "8/8 [==============================] - 10s 1s/step - loss: 0.0213 - accuracy: 0.9960 - val_loss: 0.3479 - val_accuracy: 0.9667\n"
          ],
          "name": "stdout"
        }
      ]
    },
    {
      "cell_type": "code",
      "metadata": {
        "id": "ZjYQPY-UjZUo"
      },
      "source": [
        "cnnModel.save('model_resnet50.h5')\n"
      ],
      "execution_count": null,
      "outputs": []
    },
    {
      "cell_type": "code",
      "metadata": {
        "id": "Z7ZvsGGDLvGu"
      },
      "source": [
        "# temp all the code after this\n"
      ],
      "execution_count": null,
      "outputs": []
    },
    {
      "cell_type": "code",
      "metadata": {
        "id": "HRPxo61INgQW",
        "colab": {
          "base_uri": "https://localhost:8080/"
        },
        "outputId": "4dffbcfb-ca0e-4c57-8122-0c3ee411c940"
      },
      "source": [
        "cnnModel.evaluate_generator(train_generator)"
      ],
      "execution_count": null,
      "outputs": [
        {
          "output_type": "stream",
          "text": [
            "/usr/local/lib/python3.7/dist-packages/tensorflow/python/keras/engine/training.py:1877: UserWarning: `Model.evaluate_generator` is deprecated and will be removed in a future version. Please use `Model.evaluate`, which supports generators.\n",
            "  warnings.warn('`Model.evaluate_generator` is deprecated and '\n"
          ],
          "name": "stderr"
        },
        {
          "output_type": "execute_result",
          "data": {
            "text/plain": [
              "[0.05699316784739494, 0.9770408272743225]"
            ]
          },
          "metadata": {
            "tags": []
          },
          "execution_count": 386
        }
      ]
    },
    {
      "cell_type": "code",
      "metadata": {
        "id": "D9CdtNJHPoVB",
        "colab": {
          "base_uri": "https://localhost:8080/"
        },
        "outputId": "27e0249e-eb5b-4e68-fda7-99167d48ccc7"
      },
      "source": [
        "cnnModel.evaluate_generator(validation_generator)"
      ],
      "execution_count": null,
      "outputs": [
        {
          "output_type": "stream",
          "text": [
            "/usr/local/lib/python3.7/dist-packages/tensorflow/python/keras/engine/training.py:1877: UserWarning: `Model.evaluate_generator` is deprecated and will be removed in a future version. Please use `Model.evaluate`, which supports generators.\n",
            "  warnings.warn('`Model.evaluate_generator` is deprecated and '\n"
          ],
          "name": "stderr"
        },
        {
          "output_type": "execute_result",
          "data": {
            "text/plain": [
              "[0.34785741567611694, 0.9666666388511658]"
            ]
          },
          "metadata": {
            "tags": []
          },
          "execution_count": 387
        }
      ]
    },
    {
      "cell_type": "code",
      "metadata": {
        "id": "Km00Bkr4dehA"
      },
      "source": [
        "from tensorflow.keras.models import load_model\n",
        "from tensorflow.keras.preprocessing import image"
      ],
      "execution_count": null,
      "outputs": []
    },
    {
      "cell_type": "code",
      "metadata": {
        "id": "WBpe496DkL90"
      },
      "source": [
        "cnnModel=load_model('model_resnet50.h5')\n"
      ],
      "execution_count": null,
      "outputs": []
    },
    {
      "cell_type": "code",
      "metadata": {
        "id": "ZnFosBEnPwcH"
      },
      "source": [
        "img=image.load_img('drive/MyDrive/COVID DETECTION MODEL/DataSet/Val/Covid/4-x-day1.jpg',target_size=(224,224))\n"
      ],
      "execution_count": null,
      "outputs": []
    },
    {
      "cell_type": "code",
      "metadata": {
        "id": "BorHcgdXp9lR"
      },
      "source": [
        ""
      ],
      "execution_count": null,
      "outputs": []
    },
    {
      "cell_type": "code",
      "metadata": {
        "id": "aCC27lxZe24V",
        "colab": {
          "base_uri": "https://localhost:8080/"
        },
        "outputId": "4f71c477-bc3e-41ea-889d-927a1ec86cf8"
      },
      "source": [
        "x=image.img_to_array(img)\n",
        "x"
      ],
      "execution_count": null,
      "outputs": [
        {
          "output_type": "execute_result",
          "data": {
            "text/plain": [
              "array([[[  1.,   1.,   1.],\n",
              "        [  1.,   1.,   1.],\n",
              "        [  1.,   1.,   1.],\n",
              "        ...,\n",
              "        [  2.,   2.,   2.],\n",
              "        [  1.,   0.,   0.],\n",
              "        [  1.,   0.,   0.]],\n",
              "\n",
              "       [[  1.,   1.,   1.],\n",
              "        [  1.,   1.,   1.],\n",
              "        [  1.,   1.,   1.],\n",
              "        ...,\n",
              "        [  0.,   0.,   0.],\n",
              "        [  1.,   0.,   0.],\n",
              "        [  1.,   0.,   0.]],\n",
              "\n",
              "       [[  1.,   1.,   1.],\n",
              "        [  1.,   1.,   1.],\n",
              "        [  1.,   1.,   1.],\n",
              "        ...,\n",
              "        [  0.,   0.,   0.],\n",
              "        [  1.,   0.,   0.],\n",
              "        [  1.,   0.,   0.]],\n",
              "\n",
              "       ...,\n",
              "\n",
              "       [[ 27.,  27.,  27.],\n",
              "        [ 32.,  32.,  32.],\n",
              "        [ 41.,  41.,  41.],\n",
              "        ...,\n",
              "        [177., 177., 177.],\n",
              "        [180., 178., 179.],\n",
              "        [103., 101., 102.]],\n",
              "\n",
              "       [[ 27.,  27.,  27.],\n",
              "        [ 33.,  33.,  33.],\n",
              "        [ 40.,  40.,  40.],\n",
              "        ...,\n",
              "        [181., 181., 181.],\n",
              "        [179., 177., 178.],\n",
              "        [103., 101., 102.]],\n",
              "\n",
              "       [[ 26.,  26.,  26.],\n",
              "        [ 34.,  34.,  34.],\n",
              "        [ 39.,  39.,  39.],\n",
              "        ...,\n",
              "        [186., 186., 186.],\n",
              "        [183., 181., 182.],\n",
              "        [106., 104., 105.]]], dtype=float32)"
            ]
          },
          "metadata": {
            "tags": []
          },
          "execution_count": 397
        }
      ]
    },
    {
      "cell_type": "markdown",
      "metadata": {
        "id": "w8AmqtlwrjYa"
      },
      "source": [
        ""
      ]
    },
    {
      "cell_type": "code",
      "metadata": {
        "id": "Q6n7rlCve_eJ",
        "colab": {
          "base_uri": "https://localhost:8080/"
        },
        "outputId": "53a5c4d9-1719-4aa1-dabc-8624e452d7b7"
      },
      "source": [
        "x.shape\n"
      ],
      "execution_count": null,
      "outputs": [
        {
          "output_type": "execute_result",
          "data": {
            "text/plain": [
              "(224, 224, 3)"
            ]
          },
          "metadata": {
            "tags": []
          },
          "execution_count": 398
        }
      ]
    },
    {
      "cell_type": "code",
      "metadata": {
        "id": "N6IAsxcdfDDJ"
      },
      "source": [
        "x=x/255\n"
      ],
      "execution_count": null,
      "outputs": []
    },
    {
      "cell_type": "code",
      "metadata": {
        "id": "rMpgGm1EfUWH",
        "colab": {
          "base_uri": "https://localhost:8080/"
        },
        "outputId": "d7340746-b7ae-45f1-d15d-d984092d8ef2"
      },
      "source": [
        "x=np.expand_dims(x,axis=0)\n",
        "img_data=x\n",
        "img_data.shape"
      ],
      "execution_count": null,
      "outputs": [
        {
          "output_type": "execute_result",
          "data": {
            "text/plain": [
              "(1, 224, 224, 3)"
            ]
          },
          "metadata": {
            "tags": []
          },
          "execution_count": 400
        }
      ]
    },
    {
      "cell_type": "code",
      "metadata": {
        "colab": {
          "base_uri": "https://localhost:8080/"
        },
        "id": "DNTCSrOpkcsv",
        "outputId": "4246617b-e466-411c-ecee-2900ec06e226"
      },
      "source": [
        "print(cnnModel.predict(x))\n",
        "\n",
        "# print(cnnModel.predict_classes(img_data))\n",
        "train_generator.class_indices\n"
      ],
      "execution_count": null,
      "outputs": [
        {
          "output_type": "stream",
          "text": [
            "[[1.1754148e-05]]\n"
          ],
          "name": "stdout"
        },
        {
          "output_type": "execute_result",
          "data": {
            "text/plain": [
              "{'Covid': 0, 'Normal': 1}"
            ]
          },
          "metadata": {
            "tags": []
          },
          "execution_count": 401
        }
      ]
    }
  ]
}